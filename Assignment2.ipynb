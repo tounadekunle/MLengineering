{
 "cells": [
  {
   "cell_type": "markdown",
   "id": "02bcf795-34fb-4f22-973a-a98faaec3e70",
   "metadata": {},
   "source": [
    "### Instruction\n",
    "\n",
    "Dataset\n",
    "In this homework, we will use the Laptops price dataset from Kaggle.\n",
    "\n",
    "Here's a wget-able link:\n",
    "wget https://raw.githubusercontent.com/alexeygrigorev/datasets/master/laptops.csv\n",
    "\n",
    "The goal of this homework is to create a regression model for predicting the prices (column 'Final Price').\n",
    "\n",
    "Preparing the dataset\n",
    "First, we'll normalize the names of the columns:\n",
    "\n",
    "df.columns = df.columns.str.lower().str.replace(' ', '_')\n",
    "Now, instead of 'Final Price', we have 'final_price'.\n",
    "\n",
    "Next, use only the following columns:\n",
    "\n",
    "'ram',\n",
    "'storage',\n",
    "'screen',\n",
    "'final_price'"
   ]
  },
  {
   "cell_type": "code",
   "execution_count": 146,
   "id": "23fa4a5c-cdc6-4359-8d30-fb1c6e62b3d9",
   "metadata": {},
   "outputs": [],
   "source": [
    "import pandas as pd\n",
    "import numpy as np\n",
    "from matplotlib import pyplot as plt\n",
    "import seaborn as sns\n",
    "from sklearn.utils import shuffle"
   ]
  },
  {
   "cell_type": "code",
   "execution_count": 147,
   "id": "2961575d-4ddc-4786-b901-c55740d1feee",
   "metadata": {},
   "outputs": [],
   "source": [
    "df = pd.read_csv(\"https://raw.githubusercontent.com/alexeygrigorev/datasets/master/laptops.csv\")\n"
   ]
  },
  {
   "cell_type": "code",
   "execution_count": 148,
   "id": "66dd794e-282e-4a1a-8db6-a1fd08c3109b",
   "metadata": {},
   "outputs": [
    {
     "data": {
      "text/html": [
       "<div>\n",
       "<style scoped>\n",
       "    .dataframe tbody tr th:only-of-type {\n",
       "        vertical-align: middle;\n",
       "    }\n",
       "\n",
       "    .dataframe tbody tr th {\n",
       "        vertical-align: top;\n",
       "    }\n",
       "\n",
       "    .dataframe thead th {\n",
       "        text-align: right;\n",
       "    }\n",
       "</style>\n",
       "<table border=\"1\" class=\"dataframe\">\n",
       "  <thead>\n",
       "    <tr style=\"text-align: right;\">\n",
       "      <th></th>\n",
       "      <th>Laptop</th>\n",
       "      <th>Status</th>\n",
       "      <th>Brand</th>\n",
       "      <th>Model</th>\n",
       "      <th>CPU</th>\n",
       "      <th>RAM</th>\n",
       "      <th>Storage</th>\n",
       "      <th>Storage type</th>\n",
       "      <th>GPU</th>\n",
       "      <th>Screen</th>\n",
       "      <th>Touch</th>\n",
       "      <th>Final Price</th>\n",
       "    </tr>\n",
       "  </thead>\n",
       "  <tbody>\n",
       "    <tr>\n",
       "      <th>0</th>\n",
       "      <td>ASUS ExpertBook B1 B1502CBA-EJ0436X Intel Core...</td>\n",
       "      <td>New</td>\n",
       "      <td>Asus</td>\n",
       "      <td>ExpertBook</td>\n",
       "      <td>Intel Core i5</td>\n",
       "      <td>8</td>\n",
       "      <td>512</td>\n",
       "      <td>SSD</td>\n",
       "      <td>NaN</td>\n",
       "      <td>15.6</td>\n",
       "      <td>No</td>\n",
       "      <td>1009.00</td>\n",
       "    </tr>\n",
       "    <tr>\n",
       "      <th>1</th>\n",
       "      <td>Alurin Go Start Intel Celeron N4020/8GB/256GB ...</td>\n",
       "      <td>New</td>\n",
       "      <td>Alurin</td>\n",
       "      <td>Go</td>\n",
       "      <td>Intel Celeron</td>\n",
       "      <td>8</td>\n",
       "      <td>256</td>\n",
       "      <td>SSD</td>\n",
       "      <td>NaN</td>\n",
       "      <td>15.6</td>\n",
       "      <td>No</td>\n",
       "      <td>299.00</td>\n",
       "    </tr>\n",
       "    <tr>\n",
       "      <th>2</th>\n",
       "      <td>ASUS ExpertBook B1 B1502CBA-EJ0424X Intel Core...</td>\n",
       "      <td>New</td>\n",
       "      <td>Asus</td>\n",
       "      <td>ExpertBook</td>\n",
       "      <td>Intel Core i3</td>\n",
       "      <td>8</td>\n",
       "      <td>256</td>\n",
       "      <td>SSD</td>\n",
       "      <td>NaN</td>\n",
       "      <td>15.6</td>\n",
       "      <td>No</td>\n",
       "      <td>789.00</td>\n",
       "    </tr>\n",
       "    <tr>\n",
       "      <th>3</th>\n",
       "      <td>MSI Katana GF66 12UC-082XES Intel Core i7-1270...</td>\n",
       "      <td>New</td>\n",
       "      <td>MSI</td>\n",
       "      <td>Katana</td>\n",
       "      <td>Intel Core i7</td>\n",
       "      <td>16</td>\n",
       "      <td>1000</td>\n",
       "      <td>SSD</td>\n",
       "      <td>RTX 3050</td>\n",
       "      <td>15.6</td>\n",
       "      <td>No</td>\n",
       "      <td>1199.00</td>\n",
       "    </tr>\n",
       "    <tr>\n",
       "      <th>4</th>\n",
       "      <td>HP 15S-FQ5085NS Intel Core i5-1235U/16GB/512GB...</td>\n",
       "      <td>New</td>\n",
       "      <td>HP</td>\n",
       "      <td>15S</td>\n",
       "      <td>Intel Core i5</td>\n",
       "      <td>16</td>\n",
       "      <td>512</td>\n",
       "      <td>SSD</td>\n",
       "      <td>NaN</td>\n",
       "      <td>15.6</td>\n",
       "      <td>No</td>\n",
       "      <td>669.01</td>\n",
       "    </tr>\n",
       "  </tbody>\n",
       "</table>\n",
       "</div>"
      ],
      "text/plain": [
       "                                              Laptop Status   Brand  \\\n",
       "0  ASUS ExpertBook B1 B1502CBA-EJ0436X Intel Core...    New    Asus   \n",
       "1  Alurin Go Start Intel Celeron N4020/8GB/256GB ...    New  Alurin   \n",
       "2  ASUS ExpertBook B1 B1502CBA-EJ0424X Intel Core...    New    Asus   \n",
       "3  MSI Katana GF66 12UC-082XES Intel Core i7-1270...    New     MSI   \n",
       "4  HP 15S-FQ5085NS Intel Core i5-1235U/16GB/512GB...    New      HP   \n",
       "\n",
       "        Model            CPU  RAM  Storage Storage type       GPU  Screen  \\\n",
       "0  ExpertBook  Intel Core i5    8      512          SSD       NaN    15.6   \n",
       "1          Go  Intel Celeron    8      256          SSD       NaN    15.6   \n",
       "2  ExpertBook  Intel Core i3    8      256          SSD       NaN    15.6   \n",
       "3      Katana  Intel Core i7   16     1000          SSD  RTX 3050    15.6   \n",
       "4         15S  Intel Core i5   16      512          SSD       NaN    15.6   \n",
       "\n",
       "  Touch  Final Price  \n",
       "0    No      1009.00  \n",
       "1    No       299.00  \n",
       "2    No       789.00  \n",
       "3    No      1199.00  \n",
       "4    No       669.01  "
      ]
     },
     "execution_count": 148,
     "metadata": {},
     "output_type": "execute_result"
    }
   ],
   "source": [
    "df.head(5)"
   ]
  },
  {
   "cell_type": "code",
   "execution_count": 149,
   "id": "38807635-b5bc-4568-a50e-e985e3247d2b",
   "metadata": {},
   "outputs": [],
   "source": [
    "df.columns = df.columns.str.lower().str.replace(' ', '_')"
   ]
  },
  {
   "cell_type": "code",
   "execution_count": 120,
   "id": "40db0e88-4579-498a-85aa-6302a3a00d64",
   "metadata": {},
   "outputs": [
    {
     "data": {
      "text/html": [
       "<div>\n",
       "<style scoped>\n",
       "    .dataframe tbody tr th:only-of-type {\n",
       "        vertical-align: middle;\n",
       "    }\n",
       "\n",
       "    .dataframe tbody tr th {\n",
       "        vertical-align: top;\n",
       "    }\n",
       "\n",
       "    .dataframe thead th {\n",
       "        text-align: right;\n",
       "    }\n",
       "</style>\n",
       "<table border=\"1\" class=\"dataframe\">\n",
       "  <thead>\n",
       "    <tr style=\"text-align: right;\">\n",
       "      <th></th>\n",
       "      <th>laptop</th>\n",
       "      <th>status</th>\n",
       "      <th>brand</th>\n",
       "      <th>model</th>\n",
       "      <th>cpu</th>\n",
       "      <th>ram</th>\n",
       "      <th>storage</th>\n",
       "      <th>storage_type</th>\n",
       "      <th>gpu</th>\n",
       "      <th>screen</th>\n",
       "      <th>touch</th>\n",
       "      <th>final_price</th>\n",
       "    </tr>\n",
       "  </thead>\n",
       "  <tbody>\n",
       "    <tr>\n",
       "      <th>0</th>\n",
       "      <td>ASUS ExpertBook B1 B1502CBA-EJ0436X Intel Core...</td>\n",
       "      <td>New</td>\n",
       "      <td>Asus</td>\n",
       "      <td>ExpertBook</td>\n",
       "      <td>Intel Core i5</td>\n",
       "      <td>8</td>\n",
       "      <td>512</td>\n",
       "      <td>SSD</td>\n",
       "      <td>NaN</td>\n",
       "      <td>15.6</td>\n",
       "      <td>No</td>\n",
       "      <td>1009.00</td>\n",
       "    </tr>\n",
       "    <tr>\n",
       "      <th>1</th>\n",
       "      <td>Alurin Go Start Intel Celeron N4020/8GB/256GB ...</td>\n",
       "      <td>New</td>\n",
       "      <td>Alurin</td>\n",
       "      <td>Go</td>\n",
       "      <td>Intel Celeron</td>\n",
       "      <td>8</td>\n",
       "      <td>256</td>\n",
       "      <td>SSD</td>\n",
       "      <td>NaN</td>\n",
       "      <td>15.6</td>\n",
       "      <td>No</td>\n",
       "      <td>299.00</td>\n",
       "    </tr>\n",
       "    <tr>\n",
       "      <th>2</th>\n",
       "      <td>ASUS ExpertBook B1 B1502CBA-EJ0424X Intel Core...</td>\n",
       "      <td>New</td>\n",
       "      <td>Asus</td>\n",
       "      <td>ExpertBook</td>\n",
       "      <td>Intel Core i3</td>\n",
       "      <td>8</td>\n",
       "      <td>256</td>\n",
       "      <td>SSD</td>\n",
       "      <td>NaN</td>\n",
       "      <td>15.6</td>\n",
       "      <td>No</td>\n",
       "      <td>789.00</td>\n",
       "    </tr>\n",
       "    <tr>\n",
       "      <th>3</th>\n",
       "      <td>MSI Katana GF66 12UC-082XES Intel Core i7-1270...</td>\n",
       "      <td>New</td>\n",
       "      <td>MSI</td>\n",
       "      <td>Katana</td>\n",
       "      <td>Intel Core i7</td>\n",
       "      <td>16</td>\n",
       "      <td>1000</td>\n",
       "      <td>SSD</td>\n",
       "      <td>RTX 3050</td>\n",
       "      <td>15.6</td>\n",
       "      <td>No</td>\n",
       "      <td>1199.00</td>\n",
       "    </tr>\n",
       "    <tr>\n",
       "      <th>4</th>\n",
       "      <td>HP 15S-FQ5085NS Intel Core i5-1235U/16GB/512GB...</td>\n",
       "      <td>New</td>\n",
       "      <td>HP</td>\n",
       "      <td>15S</td>\n",
       "      <td>Intel Core i5</td>\n",
       "      <td>16</td>\n",
       "      <td>512</td>\n",
       "      <td>SSD</td>\n",
       "      <td>NaN</td>\n",
       "      <td>15.6</td>\n",
       "      <td>No</td>\n",
       "      <td>669.01</td>\n",
       "    </tr>\n",
       "  </tbody>\n",
       "</table>\n",
       "</div>"
      ],
      "text/plain": [
       "                                              laptop status   brand  \\\n",
       "0  ASUS ExpertBook B1 B1502CBA-EJ0436X Intel Core...    New    Asus   \n",
       "1  Alurin Go Start Intel Celeron N4020/8GB/256GB ...    New  Alurin   \n",
       "2  ASUS ExpertBook B1 B1502CBA-EJ0424X Intel Core...    New    Asus   \n",
       "3  MSI Katana GF66 12UC-082XES Intel Core i7-1270...    New     MSI   \n",
       "4  HP 15S-FQ5085NS Intel Core i5-1235U/16GB/512GB...    New      HP   \n",
       "\n",
       "        model            cpu  ram  storage storage_type       gpu  screen  \\\n",
       "0  ExpertBook  Intel Core i5    8      512          SSD       NaN    15.6   \n",
       "1          Go  Intel Celeron    8      256          SSD       NaN    15.6   \n",
       "2  ExpertBook  Intel Core i3    8      256          SSD       NaN    15.6   \n",
       "3      Katana  Intel Core i7   16     1000          SSD  RTX 3050    15.6   \n",
       "4         15S  Intel Core i5   16      512          SSD       NaN    15.6   \n",
       "\n",
       "  touch  final_price  \n",
       "0    No      1009.00  \n",
       "1    No       299.00  \n",
       "2    No       789.00  \n",
       "3    No      1199.00  \n",
       "4    No       669.01  "
      ]
     },
     "execution_count": 120,
     "metadata": {},
     "output_type": "execute_result"
    }
   ],
   "source": [
    "df.head(5)"
   ]
  },
  {
   "cell_type": "code",
   "execution_count": 121,
   "id": "569c632a-6501-40b5-8856-76857dc45437",
   "metadata": {},
   "outputs": [
    {
     "data": {
      "text/plain": [
       "<Axes: xlabel='ram', ylabel='Count'>"
      ]
     },
     "execution_count": 121,
     "metadata": {},
     "output_type": "execute_result"
    },
    {
     "data": {
      "image/png": "[encoded data removed]",
      "text/plain": [
       "<Figure size 640x480 with 1 Axes>"
      ]
     },
     "metadata": {},
     "output_type": "display_data"
    }
   ],
   "source": [
    "sns.histplot(df['ram'], bins=40)"
   ]
  },
  {
   "cell_type": "code",
   "execution_count": 122,
   "id": "8fc8e0d0-47bc-433a-91bc-a40ec97d6b13",
   "metadata": {},
   "outputs": [
    {
     "data": {
      "text/plain": [
       "<Axes: xlabel='storage', ylabel='Count'>"
      ]
     },
     "execution_count": 122,
     "metadata": {},
     "output_type": "execute_result"
    },
    {
     "data": {
      "image/png": "[encoded data removed]",
      "text/plain": [
       "<Figure size 640x480 with 1 Axes>"
      ]
     },
     "metadata": {},
     "output_type": "display_data"
    }
   ],
   "source": [
    "sns.histplot(df['storage'], bins=40)"
   ]
  },
  {
   "cell_type": "code",
   "execution_count": 123,
   "id": "806cbdef-5d06-48bd-9497-e109bd79edc3",
   "metadata": {},
   "outputs": [
    {
     "data": {
      "text/plain": [
       "<Axes: xlabel='screen', ylabel='Count'>"
      ]
     },
     "execution_count": 123,
     "metadata": {},
     "output_type": "execute_result"
    },
    {
     "data": {
      "image/png": "[encoded data removed]",
      "text/plain": [
       "<Figure size 640x480 with 1 Axes>"
      ]
     },
     "metadata": {},
     "output_type": "display_data"
    }
   ],
   "source": [
    "sns.histplot(df['screen'], bins=40)\n"
   ]
  },
  {
   "cell_type": "code",
   "execution_count": 150,
   "id": "4c50f3af-1141-4483-bfa8-4f8e602e7371",
   "metadata": {},
   "outputs": [
    {
     "data": {
      "text/plain": [
       "<Axes: xlabel='final_price', ylabel='Count'>"
      ]
     },
     "execution_count": 150,
     "metadata": {},
     "output_type": "execute_result"
    },
    {
     "data": {
      "image/png": "[encoded data removed]",
      "text/plain": [
       "<Figure size 640x480 with 1 Axes>"
      ]
     },
     "metadata": {},
     "output_type": "display_data"
    }
   ],
   "source": [
    "sns.histplot(df['final_price'], bins=40)"
   ]
  },
  {
   "cell_type": "markdown",
   "id": "2d294adf-02d4-42dc-8f92-3b5cddad2618",
   "metadata": {},
   "source": [
    "Yes, the final_price has a long tail."
   ]
  },
  {
   "cell_type": "markdown",
   "id": "fa13289d-3acb-4972-9118-85cf0e660b9b",
   "metadata": {},
   "source": [
    "# Question 1\n",
    "There's one column with missing values. What is it?"
   ]
  },
  {
   "cell_type": "code",
   "execution_count": 125,
   "id": "4e445c7f-d0af-4003-b874-9297de6b931c",
   "metadata": {},
   "outputs": [
    {
     "data": {
      "text/plain": [
       "laptop             0\n",
       "status             0\n",
       "brand              0\n",
       "model              0\n",
       "cpu                0\n",
       "ram                0\n",
       "storage            0\n",
       "storage_type      42\n",
       "gpu             1371\n",
       "screen             4\n",
       "touch              0\n",
       "final_price        0\n",
       "dtype: int64"
      ]
     },
     "execution_count": 125,
     "metadata": {},
     "output_type": "execute_result"
    }
   ],
   "source": [
    "df.isna().sum()"
   ]
  },
  {
   "cell_type": "markdown",
   "id": "7d4a3623-a89a-4c84-b546-cb930f9a77ed",
   "metadata": {},
   "source": [
    "Answer is Screen"
   ]
  },
  {
   "cell_type": "markdown",
   "id": "c49d0e0c-f65a-4a08-b310-6d230ae6d90b",
   "metadata": {},
   "source": [
    "# Question 2\n",
    "Prepare and split the dataset\n",
    "\n",
    "Shuffle the dataset (the filtered one you created above), use seed 42.\n",
    "Split your data in train/val/test sets, with 60%/20%/20% distribution."
   ]
  },
  {
   "cell_type": "code",
   "execution_count": 126,
   "id": "38814663-1db3-4b42-ba6c-d0839bcef135",
   "metadata": {},
   "outputs": [
    {
     "data": {
      "text/plain": [
       "np.float64(16.0)"
      ]
     },
     "execution_count": 126,
     "metadata": {},
     "output_type": "execute_result"
    }
   ],
   "source": [
    "df['ram'].median()"
   ]
  },
  {
   "cell_type": "markdown",
   "id": "500ad91e-eeac-4931-bea9-d7124ab5abe6",
   "metadata": {},
   "source": [
    "50th percentile of ram is 16"
   ]
  },
  {
   "cell_type": "markdown",
   "id": "4dd5c471-e045-4cef-992c-6a7946efc2c8",
   "metadata": {},
   "source": [
    "### Prepare and split the datasetD"
   ]
  },
  {
   "cell_type": "code",
   "execution_count": 127,
   "id": "b8f6e2d4-e522-4a20-a19a-75e2664d2adc",
   "metadata": {},
   "outputs": [
    {
     "data": {
      "text/plain": [
       "laptop           object\n",
       "status           object\n",
       "brand            object\n",
       "model            object\n",
       "cpu              object\n",
       "ram               int64\n",
       "storage           int64\n",
       "storage_type     object\n",
       "gpu              object\n",
       "screen          float64\n",
       "touch            object\n",
       "final_price     float64\n",
       "dtype: object"
      ]
     },
     "execution_count": 127,
     "metadata": {},
     "output_type": "execute_result"
    }
   ],
   "source": [
    "#Shuffle the dataset (the filtered one you created above), use seed 42\n",
    "df.dtypes"
   ]
  },
  {
   "cell_type": "code",
   "execution_count": 151,
   "id": "a462e880-2526-4261-a3c8-3935c86c9350",
   "metadata": {},
   "outputs": [],
   "source": [
    "df_subset = df[['ram', 'storage', 'screen', 'final_price']]"
   ]
  },
  {
   "cell_type": "code",
   "execution_count": 152,
   "id": "dd9bea28-ace2-4ce3-9734-c31ba404f9d2",
   "metadata": {},
   "outputs": [
    {
     "data": {
      "text/html": [
       "<div>\n",
       "<style scoped>\n",
       "    .dataframe tbody tr th:only-of-type {\n",
       "        vertical-align: middle;\n",
       "    }\n",
       "\n",
       "    .dataframe tbody tr th {\n",
       "        vertical-align: top;\n",
       "    }\n",
       "\n",
       "    .dataframe thead th {\n",
       "        text-align: right;\n",
       "    }\n",
       "</style>\n",
       "<table border=\"1\" class=\"dataframe\">\n",
       "  <thead>\n",
       "    <tr style=\"text-align: right;\">\n",
       "      <th></th>\n",
       "      <th>ram</th>\n",
       "      <th>storage</th>\n",
       "      <th>screen</th>\n",
       "      <th>final_price</th>\n",
       "    </tr>\n",
       "  </thead>\n",
       "  <tbody>\n",
       "    <tr>\n",
       "      <th>0</th>\n",
       "      <td>8</td>\n",
       "      <td>512</td>\n",
       "      <td>15.6</td>\n",
       "      <td>1009.00</td>\n",
       "    </tr>\n",
       "    <tr>\n",
       "      <th>1</th>\n",
       "      <td>8</td>\n",
       "      <td>256</td>\n",
       "      <td>15.6</td>\n",
       "      <td>299.00</td>\n",
       "    </tr>\n",
       "    <tr>\n",
       "      <th>2</th>\n",
       "      <td>8</td>\n",
       "      <td>256</td>\n",
       "      <td>15.6</td>\n",
       "      <td>789.00</td>\n",
       "    </tr>\n",
       "    <tr>\n",
       "      <th>3</th>\n",
       "      <td>16</td>\n",
       "      <td>1000</td>\n",
       "      <td>15.6</td>\n",
       "      <td>1199.00</td>\n",
       "    </tr>\n",
       "    <tr>\n",
       "      <th>4</th>\n",
       "      <td>16</td>\n",
       "      <td>512</td>\n",
       "      <td>15.6</td>\n",
       "      <td>669.01</td>\n",
       "    </tr>\n",
       "    <tr>\n",
       "      <th>...</th>\n",
       "      <td>...</td>\n",
       "      <td>...</td>\n",
       "      <td>...</td>\n",
       "      <td>...</td>\n",
       "    </tr>\n",
       "    <tr>\n",
       "      <th>2155</th>\n",
       "      <td>16</td>\n",
       "      <td>1000</td>\n",
       "      <td>17.3</td>\n",
       "      <td>2699.99</td>\n",
       "    </tr>\n",
       "    <tr>\n",
       "      <th>2156</th>\n",
       "      <td>16</td>\n",
       "      <td>1000</td>\n",
       "      <td>17.3</td>\n",
       "      <td>2899.99</td>\n",
       "    </tr>\n",
       "    <tr>\n",
       "      <th>2157</th>\n",
       "      <td>32</td>\n",
       "      <td>1000</td>\n",
       "      <td>17.3</td>\n",
       "      <td>3399.99</td>\n",
       "    </tr>\n",
       "    <tr>\n",
       "      <th>2158</th>\n",
       "      <td>16</td>\n",
       "      <td>1000</td>\n",
       "      <td>13.4</td>\n",
       "      <td>1899.99</td>\n",
       "    </tr>\n",
       "    <tr>\n",
       "      <th>2159</th>\n",
       "      <td>16</td>\n",
       "      <td>256</td>\n",
       "      <td>13.4</td>\n",
       "      <td>1699.99</td>\n",
       "    </tr>\n",
       "  </tbody>\n",
       "</table>\n",
       "<p>2160 rows × 4 columns</p>\n",
       "</div>"
      ],
      "text/plain": [
       "      ram  storage  screen  final_price\n",
       "0       8      512    15.6      1009.00\n",
       "1       8      256    15.6       299.00\n",
       "2       8      256    15.6       789.00\n",
       "3      16     1000    15.6      1199.00\n",
       "4      16      512    15.6       669.01\n",
       "...   ...      ...     ...          ...\n",
       "2155   16     1000    17.3      2699.99\n",
       "2156   16     1000    17.3      2899.99\n",
       "2157   32     1000    17.3      3399.99\n",
       "2158   16     1000    13.4      1899.99\n",
       "2159   16      256    13.4      1699.99\n",
       "\n",
       "[2160 rows x 4 columns]"
      ]
     },
     "execution_count": 152,
     "metadata": {},
     "output_type": "execute_result"
    }
   ],
   "source": [
    "df_subset"
   ]
  },
  {
   "cell_type": "code",
   "execution_count": 153,
   "id": "f98796d9-f34e-4adf-8dae-3cccedad5010",
   "metadata": {},
   "outputs": [
    {
     "data": {
      "text/plain": [
       "ram            0\n",
       "storage        0\n",
       "screen         4\n",
       "final_price    0\n",
       "dtype: int64"
      ]
     },
     "execution_count": 153,
     "metadata": {},
     "output_type": "execute_result"
    }
   ],
   "source": [
    "df_subset.isna().sum()"
   ]
  },
  {
   "cell_type": "markdown",
   "id": "a4a134ae-5f39-408d-a76a-c2423159a029",
   "metadata": {},
   "source": [
    "### Split your data in train/val/test sets, with 60%/20%/20% distribution"
   ]
  },
  {
   "cell_type": "code",
   "execution_count": 154,
   "id": "f882e1d7-4bfa-43b8-be4f-7b2d852b57e7",
   "metadata": {},
   "outputs": [],
   "source": [
    "n = len(df_subset)\n",
    "n_test =int (n * 0.2)\n",
    "n_val = int(n * 0.2)\n",
    "n_train = n - (n_test + n_val)"
   ]
  },
  {
   "cell_type": "code",
   "execution_count": 155,
   "id": "784bcacb-4c25-4245-97eb-2131c189ee64",
   "metadata": {},
   "outputs": [],
   "source": [
    "idx = np.arange(n)\n",
    "np.random.seed(42)\n",
    "np.random.shuffle(idx)\n"
   ]
  },
  {
   "cell_type": "code",
   "execution_count": 156,
   "id": "a1088ddd-a7ab-45cf-970f-64ce5ccee79a",
   "metadata": {},
   "outputs": [],
   "source": [
    "df_shuffled = df.iloc[idx]\n",
    "\n",
    "df_train = df_shuffled.iloc[:n_train].copy()\n",
    "df_val = df_shuffled.iloc[n_train:n_train+n_val].copy()\n",
    "df_test = df_shuffled.iloc[n_train+n_val:].copy()\n"
   ]
  },
  {
   "cell_type": "code",
   "execution_count": 157,
   "id": "86d52694-7fda-4db9-a1bd-e04eb5039973",
   "metadata": {},
   "outputs": [],
   "source": [
    "df_train = df_train.reset_index(drop=True)\n",
    "df_val = df_val.reset_index(drop=True)\n",
    "df_test = df_test.reset_index(drop=True)"
   ]
  },
  {
   "cell_type": "code",
   "execution_count": 158,
   "id": "05bf2121-84fc-4e2f-b851-c137d0f83fac",
   "metadata": {},
   "outputs": [],
   "source": [
    "y_train = df_train.final_price.values\n",
    "y_val = df_val.final_price.values\n",
    "y_test = df_test.final_price.values\n",
    "\n",
    "del df_train['final_price']\n",
    "del df_val['final_price']\n",
    "del df_test['final_price']"
   ]
  },
  {
   "cell_type": "markdown",
   "id": "e5600453-6a69-4054-8146-722d4d592649",
   "metadata": {},
   "source": [
    "# Question 3\n",
    "We need to deal with missing values for the column from Q1.\n",
    "We have two options: fill it with 0 or with the mean of this variable.\n",
    "Try both options. For each, train a linear regression model without regularization using the code from the lessons.\n",
    "For computing the mean, use the training only!\n",
    "Use the validation dataset to evaluate the models and compare the RMSE of each option.\n",
    "Round the RMSE scores to 2 decimal digits using round(score, 2)\n",
    "Which option gives better RMSE?"
   ]
  },
  {
   "cell_type": "markdown",
   "id": "77bc33b5-3e28-425c-81fe-e6b00c41eaea",
   "metadata": {},
   "source": [
    "### Train Linear Regression"
   ]
  },
  {
   "cell_type": "code",
   "execution_count": 159,
   "id": "677c3457-d56f-492e-b836-956f3cc3ee53",
   "metadata": {},
   "outputs": [],
   "source": [
    "def train_linear_regression(X,y):\n",
    "    ones = np.ones(X.shape[0])\n",
    "    X = np.column_stack([ones,X])\n",
    "    \n",
    "    XTX =X.T.dot(X)\n",
    "    XTX_inv =np.linalg.inv(XTX)\n",
    "    w_full = XTX_inv.dot(X.T).dot(y)\n",
    "    \n",
    "    return w_full[0], w_full[1:]"
   ]
  },
  {
   "cell_type": "markdown",
   "id": "716f18d7-26b7-4a0a-b1fc-27466cddd454",
   "metadata": {},
   "source": [
    "### Root Mean Square Error (RMSE)"
   ]
  },
  {
   "cell_type": "code",
   "execution_count": 160,
   "id": "32c94ed5-59e3-4329-b7cc-e81b43f19ddf",
   "metadata": {},
   "outputs": [],
   "source": [
    "def rmse(y, y_pred):\n",
    "    se = (y - y_pred) ** 2\n",
    "    mse = se.mean()\n",
    "    return np.sqrt(mse)"
   ]
  },
  {
   "cell_type": "code",
   "execution_count": 161,
   "id": "d80750eb-0312-42b6-b28b-89f55547c22a",
   "metadata": {},
   "outputs": [],
   "source": [
    "def prepare_X(df, fillna_value):\n",
    "    df = df.fillna(fillna_value)\n",
    "    X = df.values\n",
    "    return X"
   ]
  },
  {
   "cell_type": "markdown",
   "id": "af13ff72-9b22-4af2-a063-bc0294d3c07c",
   "metadata": {},
   "source": [
    "### Handling Missing Values(Fill with 0)"
   ]
  },
  {
   "cell_type": "code",
   "execution_count": null,
   "id": "7b49e293-94ad-42e0-b0ee-5fb43cd0c935",
   "metadata": {},
   "outputs": [],
   "source": [
    "X_train = prepare_X(df_train, fillna_value=0)\n",
    "w_0, w = train_linear_regression(X_train, y_train)\n",
    "\n",
    "X_val = prepare_X(df_val, fillna_value=0)\n",
    "y_pred = w_0 + X_val.dot(w)\n",
    "\n",
    "rmse(y_val, y_pred)"
   ]
  },
  {
   "cell_type": "code",
   "execution_count": null,
   "id": "07b94bfc-c3a8-4b68-9ea1-99bd2453ecbd",
   "metadata": {},
   "outputs": [],
   "source": [
    "print(f\"RMSE with missing values filled by zero: {round(rmse_zero, 2)}\")"
   ]
  },
  {
   "cell_type": "markdown",
   "id": "7cfd68bf-5173-4651-b98e-f456947ac980",
   "metadata": {},
   "source": [
    "### Handling Missing Values(Fill with mean)"
   ]
  },
  {
   "cell_type": "code",
   "execution_count": 259,
   "id": "8e3c54d6-65bd-43f5-9b55-78030b573d43",
   "metadata": {},
   "outputs": [],
   "source": [
    "mean_value = df_train.mean()"
   ]
  },
  {
   "cell_type": "code",
   "execution_count": 260,
   "id": "0619c0de-336e-425d-b0c9-3b272f33ced1",
   "metadata": {},
   "outputs": [],
   "source": [
    "df_train = df_train.fillna(mean_value)\n",
    "df_val= df_val.fillna(mean_value)\n",
    "df_test= df_test.fillna(mean_value)"
   ]
  },
  {
   "cell_type": "code",
   "execution_count": 261,
   "id": "1b0eaa54-a97c-4401-bac5-5298b295a43d",
   "metadata": {},
   "outputs": [],
   "source": [
    "y_train = np.log1p(df_train.final_price.values)\n",
    "y_val = np.log1p(df_val.final_price.values)\n",
    "y_test = np.log1p(df_test.final_price.values)"
   ]
  },
  {
   "cell_type": "code",
   "execution_count": 262,
   "id": "7c2f7ea7-0499-4a8d-90b6-29112a968e8e",
   "metadata": {},
   "outputs": [],
   "source": [
    "del df_train['final_price']\n",
    "del df_val['final_price']\n",
    "del df_test['final_price']"
   ]
  },
  {
   "cell_type": "code",
   "execution_count": 263,
   "id": "e2a45359-8bcb-4daa-9488-93a7643cb6d3",
   "metadata": {},
   "outputs": [
    {
     "data": {
      "text/plain": [
       "1296"
      ]
     },
     "execution_count": 263,
     "metadata": {},
     "output_type": "execute_result"
    }
   ],
   "source": [
    "len(y_train)"
   ]
  },
  {
   "cell_type": "code",
   "execution_count": 78,
   "id": "0bdc7d1d-1c43-4f51-97b0-650fda2eff5c",
   "metadata": {},
   "outputs": [],
   "source": [
    "X_train = df_train.values"
   ]
  },
  {
   "cell_type": "code",
   "execution_count": 79,
   "id": "e8a0c325-525f-41e4-8782-3d142c076734",
   "metadata": {},
   "outputs": [],
   "source": [
    "w0, w = train_linear_regression(X_train, y_train)"
   ]
  },
  {
   "cell_type": "code",
   "execution_count": 80,
   "id": "ce4bde9f-8ba1-4836-987b-cc4322741278",
   "metadata": {},
   "outputs": [],
   "source": [
    "# Validate\n",
    "def prepare_X (df_train):\n",
    "    df_num = df_train\n",
    "    X = df_num.values\n",
    "    return X"
   ]
  },
  {
   "cell_type": "code",
   "execution_count": 81,
   "id": "fde82fae-61fd-4426-8be9-685d543529fe",
   "metadata": {},
   "outputs": [],
   "source": [
    "X_train = prepare_X(df_train)"
   ]
  },
  {
   "cell_type": "code",
   "execution_count": 82,
   "id": "5da4b11a-550f-4a40-8b0a-c1be50b2ef4f",
   "metadata": {},
   "outputs": [],
   "source": [
    "X_val = prepare_X(df_val)\n",
    "y_pred = w0 + X_val.dot(w)\n",
    "\n",
    "\n",
    "rmse_mean = rmse(y_val, y_pred)"
   ]
  },
  {
   "cell_type": "code",
   "execution_count": 83,
   "id": "9aa65dcd-9cf5-4727-8f67-4182a8c6adfb",
   "metadata": {},
   "outputs": [
    {
     "name": "stdout",
     "output_type": "stream",
     "text": [
      "RMSE with missing values filled by mean: 0.43\n"
     ]
    }
   ],
   "source": [
    "\n",
    "print(f\"RMSE with missing values filled by mean: {round(rmse_mean, 2)}\")"
   ]
  },
  {
   "cell_type": "markdown",
   "id": "a63fc8ad-23d2-4629-9100-fef397556d08",
   "metadata": {},
   "source": [
    "##### Both rmse are good because there is no difference."
   ]
  },
  {
   "cell_type": "markdown",
   "id": "5fc20857-4d0a-4665-ba01-67c0d8b38830",
   "metadata": {},
   "source": [
    "# Question 4\n",
    "Now let's train a regularized linear regression.\n",
    "For this question, fill the NAs with 0.\n",
    "Try different values of r from this list: [0, 0.01, 0.1, 1, 5, 10, 100].\n",
    "Use RMSE to evaluate the model on the validation dataset.\n",
    "Round the RMSE scores to 2 decimal digits.\n",
    "Which r gives the best RMSE?"
   ]
  },
  {
   "cell_type": "markdown",
   "id": "903e1120-2736-41c5-881b-26169c343120",
   "metadata": {},
   "source": [
    "### Regularized model"
   ]
  },
  {
   "cell_type": "code",
   "execution_count": 110,
   "id": "a506c735-26c3-4e20-a643-829931136264",
   "metadata": {},
   "outputs": [],
   "source": [
    " def train_linear_regression_reg(X,y, r):\n",
    "    ones = np.ones(X.shape[0])\n",
    "    X = np.column_stack([ones,X])\n",
    "    \n",
    "    XTX = X.T.dot(X)\n",
    "    XTX = XTX + 0.01 * np.eye(XTX.shape[0])\n",
    "    \n",
    "    XTX_inv =np.linalg.inv(XTX)\n",
    "    w_full = XTX_inv.dot(X.T).dot(y)\n",
    "    \n",
    "    return w_full[0], w_full[1:]"
   ]
  },
  {
   "cell_type": "code",
   "execution_count": 111,
   "id": "5f8be67e-7862-4523-a54f-a2cb39015674",
   "metadata": {},
   "outputs": [],
   "source": [
    "# Validate\n",
    "def prepare_X (df_train):\n",
    "    df_num = df_train\n",
    "    X = df_num.values\n",
    "    return X"
   ]
  },
  {
   "cell_type": "code",
   "execution_count": 112,
   "id": "e7b5725b-f86e-458f-8dcd-a96b41587bc5",
   "metadata": {},
   "outputs": [],
   "source": [
    "df_train = df_train.fillna(0)\n",
    "df_val= df_val.fillna(0)\n",
    "df_test= df_test.fillna(0)"
   ]
  },
  {
   "cell_type": "code",
   "execution_count": 113,
   "id": "a0d2004d-0c87-4c0e-8cd7-da83d432d3c6",
   "metadata": {},
   "outputs": [],
   "source": [
    "y_train = np.log1p(df_train.final_price.values)\n",
    "y_val = np.log1p(df_val.final_price.values)\n",
    "y_test = np.log1p(df_test.final_price.values)"
   ]
  },
  {
   "cell_type": "code",
   "execution_count": 114,
   "id": "e7abfc0d-2433-481f-a728-bc0048d9e86a",
   "metadata": {},
   "outputs": [],
   "source": [
    "del df_train['final_price']\n",
    "del df_val['final_price']\n",
    "del df_test['final_price']"
   ]
  },
  {
   "cell_type": "code",
   "execution_count": 115,
   "id": "37da87f9-6008-4435-8f8b-2687de85d080",
   "metadata": {},
   "outputs": [
    {
     "name": "stdout",
     "output_type": "stream",
     "text": [
      "The value of r is 0 and rmse score is 0.43\n",
      "The value of r is 0.01 and rmse score is 0.43\n",
      "The value of r is 0.1 and rmse score is 0.43\n",
      "The value of r is 1 and rmse score is 0.43\n",
      "The value of r is 5 and rmse score is 0.43\n",
      "The value of r is 10 and rmse score is 0.43\n",
      "The value of r is 100 and rmse score is 0.43\n"
     ]
    }
   ],
   "source": [
    "for r in [0, 0.01, 0.1, 1, 5, 10, 100]:\n",
    "    X_train = prepare_X(df_train)\n",
    "    w0, w = train_linear_regression_reg(X_train, y_train, r)\n",
    "\n",
    "    X_val = prepare_X(df_val)\n",
    "    y_pred = w0 + X_val.dot(w)\n",
    "\n",
    "\n",
    "    score = rmse(y_val, y_pred)\n",
    "    \n",
    "    print(f\"The value of r is {r} and rmse score is {round(score,2)}\")"
   ]
  },
  {
   "cell_type": "markdown",
   "id": "45c0fe3f-68bc-40c6-918f-b10d4c9c5b7a",
   "metadata": {},
   "source": [
    "#### The value of r that gives the best rmse is 0"
   ]
  },
  {
   "cell_type": "markdown",
   "id": "520e590b-061f-4064-9bff-f6f12bb4a0ca",
   "metadata": {},
   "source": [
    "# Question 5\n",
    "\n",
    "We used seed 42 for splitting the data. Let's find out how selecting the seed influences our score.\n",
    "Try different seed values: [0, 1, 2, 3, 4, 5, 6, 7, 8, 9].\n",
    "For each seed, do the train/validation/test split with 60%/20%/20% distribution.\n",
    "Fill the missing values with 0 and train a model without regularization.\n",
    "For each seed, evaluate the model on the validation dataset and collect the RMSE scores.\n",
    "What's the standard deviation of all the scores? To compute the standard deviation, use np.std.\n",
    "Round the result to 3 decimal digits (round(std, 3))"
   ]
  },
  {
   "cell_type": "code",
   "execution_count": 408,
   "id": "1ef500fc-42dc-48d6-88e7-756672fd7310",
   "metadata": {},
   "outputs": [],
   "source": [
    "def rmse(y, y_pred):\n",
    "    se = (y - y_pred) ** 2\n",
    "    mse = se.mean()\n",
    "    return np.sqrt(mse)"
   ]
  },
  {
   "cell_type": "code",
   "execution_count": 409,
   "id": "1cae43b0-396c-4f7f-9b4f-ebf3edef44b5",
   "metadata": {},
   "outputs": [],
   "source": [
    "def train_linear_regression(X,y):\n",
    "    ones = np.ones(X.shape[0])\n",
    "    X = np.column_stack([ones,X])\n",
    "    \n",
    "    XTX =X.T.dot(X)\n",
    "    XTX_inv =np.linalg.inv(XTX)\n",
    "    w_full = XTX_inv.dot(X.T).dot(y)\n",
    "    \n",
    "    return w_full[0], w_full[1:]"
   ]
  },
  {
   "cell_type": "code",
   "execution_count": 410,
   "id": "ff6c083e-7128-46da-89e3-64681568d465",
   "metadata": {},
   "outputs": [],
   "source": [
    "np.random.seed(2)\n",
    "n = len(df_subset)\n",
    "n_test =int (n * 0.2)\n",
    "n_val = int(n * 0.2)\n",
    "n_train = n - (n_test + n_val)\n"
   ]
  },
  {
   "cell_type": "code",
   "execution_count": 411,
   "id": "86ba7c9d-a105-4a4c-bafc-14d260559c8f",
   "metadata": {},
   "outputs": [
    {
     "data": {
      "text/plain": [
       "(2160, 432, 432, 1296)"
      ]
     },
     "execution_count": 411,
     "metadata": {},
     "output_type": "execute_result"
    }
   ],
   "source": [
    "n, n_test, n_val, n_train\n"
   ]
  },
  {
   "cell_type": "code",
   "execution_count": 412,
   "id": "23f47935-9b9b-4489-a470-79a5a51572e8",
   "metadata": {},
   "outputs": [],
   "source": [
    "df_train = df_subset.iloc[:n_train]\n",
    "df_val = df_subset.iloc[n_train:n_train + n_val]\n",
    "df_test = df_subset.iloc[n_train+n_val:]"
   ]
  },
  {
   "cell_type": "code",
   "execution_count": 413,
   "id": "5dfa45a8-e647-4868-9e05-8fafaea7947e",
   "metadata": {},
   "outputs": [],
   "source": [
    "# Placeholder for RMSE scores\n",
    "rmse_scores = []"
   ]
  },
  {
   "cell_type": "code",
   "execution_count": 414,
   "id": "8907fd8c-54c8-4557-9da7-54bfa4412ae8",
   "metadata": {},
   "outputs": [],
   "source": [
    "# Seeds to test\n",
    "seeds = [0, 1, 2, 3, 4, 5, 6, 7, 8, 9]\n",
    "for seed in seeds:\n",
    "    idx = np.arange(n)\n",
    "    np.random.seed\n",
    "    np.random.shuffle(idx)"
   ]
  },
  {
   "cell_type": "code",
   "execution_count": 415,
   "id": "fd6905e3-f660-48d2-a738-5d08e0bf115f",
   "metadata": {},
   "outputs": [],
   "source": [
    "df_train =df_subset.iloc[idx[:n_train]]\n",
    "df_val = df_subset.iloc[idx[n_train:n_train + n_val]]\n",
    "df_test = df_subset.iloc[idx[n_train+n_val:]]"
   ]
  },
  {
   "cell_type": "code",
   "execution_count": 416,
   "id": "540f42da-bd90-4aa7-92b0-e70b5fff7d9d",
   "metadata": {},
   "outputs": [
    {
     "data": {
      "text/plain": [
       "(1296, 432, 432)"
      ]
     },
     "execution_count": 416,
     "metadata": {},
     "output_type": "execute_result"
    }
   ],
   "source": [
    "len(df_train), len(df_val), len(df_test)"
   ]
  },
  {
   "cell_type": "code",
   "execution_count": 417,
   "id": "ec22f835-7e25-4b3b-be4c-3ad7fe34eec6",
   "metadata": {},
   "outputs": [],
   "source": [
    "df_train = df_train.reset_index(drop=True)\n",
    "df_val = df_val.reset_index(drop=True)\n",
    "df_test = df_test.reset_index(drop=True)"
   ]
  },
  {
   "cell_type": "code",
   "execution_count": 418,
   "id": "fa3aac19-686a-4ca5-8be1-082580a49190",
   "metadata": {},
   "outputs": [],
   "source": [
    "df_train = df_train.fillna(0)\n",
    "df_val= df_val.fillna(0)\n",
    "df_test= df_test.fillna(0)"
   ]
  },
  {
   "cell_type": "code",
   "execution_count": 419,
   "id": "5c1d8d82-6c8a-45d9-86e1-6fb22fd1eb17",
   "metadata": {},
   "outputs": [],
   "source": [
    "y_train = np.log1p(df_train.final_price.values)\n",
    "y_val = np.log1p(df_val.final_price.values)\n",
    "y_test = np.log1p(df_test.final_price.values)"
   ]
  },
  {
   "cell_type": "code",
   "execution_count": 420,
   "id": "ca702396-4780-4b8f-a219-3adcbb7a6626",
   "metadata": {},
   "outputs": [],
   "source": [
    "del df_train['final_price']\n",
    "del df_val['final_price']\n",
    "del df_test['final_price']"
   ]
  },
  {
   "cell_type": "code",
   "execution_count": 421,
   "id": "c2431bf0-81f6-4a07-a117-219a3000007e",
   "metadata": {},
   "outputs": [],
   "source": [
    "X_train = df_train.values\n",
    "\n",
    "\n",
    "w0, w = train_linear_regression(X_train, y_train)"
   ]
  },
  {
   "cell_type": "code",
   "execution_count": 422,
   "id": "9f1c9c39-713a-4d87-978d-3cc7882702a1",
   "metadata": {},
   "outputs": [],
   "source": [
    "# Validate\n",
    "def prepare_X (df_train):\n",
    "    df_num = df_train\n",
    "    X = df_num.values\n",
    "    return X"
   ]
  },
  {
   "cell_type": "code",
   "execution_count": 423,
   "id": "69f42221-6f95-4ef9-97af-83c2fc26a9a2",
   "metadata": {},
   "outputs": [],
   "source": [
    "X_train = prepare_X(df_train)"
   ]
  },
  {
   "cell_type": "code",
   "execution_count": 424,
   "id": "d59ded36-4a00-4fab-acb3-226c5fe09f1d",
   "metadata": {},
   "outputs": [],
   "source": [
    "X_val = prepare_X(df_val)\n",
    "y_pred = w0 + X_val.dot(w)\n"
   ]
  },
  {
   "cell_type": "code",
   "execution_count": 427,
   "id": "045c391f-4c08-4b75-b5f4-217bfe274e2f",
   "metadata": {},
   "outputs": [],
   "source": [
    "score = rmse(y_val, y_pred)\n",
    "rmse_scores.append(score)"
   ]
  },
  {
   "cell_type": "code",
   "execution_count": 428,
   "id": "56025c14-71af-43ba-83e1-fb8dd93ea9b0",
   "metadata": {},
   "outputs": [],
   "source": [
    "std_rmse = np.std(rmse_scores)"
   ]
  },
  {
   "cell_type": "code",
   "execution_count": 429,
   "id": "d7c70780-7f78-4895-b900-f3e96efd7d4e",
   "metadata": {},
   "outputs": [
    {
     "name": "stdout",
     "output_type": "stream",
     "text": [
      "Standard deviation of RMSE scores: 0.0\n"
     ]
    }
   ],
   "source": [
    "print(f\"Standard deviation of RMSE scores: {round(std_rmse, 3)}\")"
   ]
  },
  {
   "cell_type": "code",
   "execution_count": null,
   "id": "61aa77af-155e-4fba-9017-c5a5840046a0",
   "metadata": {},
   "outputs": [],
   "source": []
  },
  {
   "cell_type": "code",
   "execution_count": 13,
   "id": "108a261b-52d4-4fb5-92f6-e452a192835d",
   "metadata": {},
   "outputs": [],
   "source": [
    "\n",
    "# Define RMSE function\n",
    "def rmse(y, y_pred):\n",
    "    se = (y - y_pred) ** 2  # Squared error\n",
    "    mse = np.mean(se)        # Mean squared error\n",
    "    return np.sqrt(mse)      # Root mean squared error\n",
    "\n"
   ]
  },
  {
   "cell_type": "code",
   "execution_count": 15,
   "id": "f9ada799-e563-4d13-8aae-aa0321b0e051",
   "metadata": {},
   "outputs": [],
   "source": [
    "from sklearn.model_selection import train_test_split\n",
    "from sklearn.linear_model import LinearRegression\n",
    "from sklearn.metrics import mean_squared_error"
   ]
  },
  {
   "cell_type": "code",
   "execution_count": 16,
   "id": "dc7eca64-81cf-49cc-b50b-196028e4db39",
   "metadata": {},
   "outputs": [],
   "source": [
    "# Placeholder for RMSE scores\n",
    "rmse_scores = []\n",
    "\n",
    "# Seeds to test\n",
    "seeds = [0, 1, 2, 3, 4, 5, 6, 7, 8, 9]\n",
    "\n",
    "# Iterate over different seed values\n",
    "for seed in seeds:\n",
    "    # Split the data into 60% train, 20% validation, 20% test using the seed\n",
    "    df_train_full, df_test = train_test_split(df_subset, test_size=0.2, random_state=seed)\n",
    "    df_train, df_val = train_test_split(df_train_full, test_size=0.25, random_state=seed)  # 0.25 of 80% is 20%\n",
    "\n",
    "    "
   ]
  },
  {
   "cell_type": "code",
   "execution_count": 18,
   "id": "93c62a36-0777-4d28-917b-ef1a8019481d",
   "metadata": {},
   "outputs": [],
   "source": [
    "# Separate the target variable (assuming it's called 'target_column')\n",
    "y_train = df_train['final_price']\n",
    "y_val = df_val['final_price']\n",
    "y_test = df_test['final_price']\n",
    "\n",
    "X_train = df_train.drop(columns=['final_price'])\n",
    "X_val = df_val.drop(columns=['final_price'])\n",
    "X_test = df_test.drop(columns=['final_price'])\n",
    "\n",
    "    "
   ]
  },
  {
   "cell_type": "code",
   "execution_count": 19,
   "id": "ba507a37-1014-44eb-8a07-c5b5a0f12ecb",
   "metadata": {},
   "outputs": [],
   "source": [
    "# Fill missing values with 0\n",
    "X_train = X_train.fillna(0)\n",
    "X_val = X_val.fillna(0)\n",
    "X_test = X_test.fillna(0)\n",
    "\n",
    "   "
   ]
  },
  {
   "cell_type": "code",
   "execution_count": 21,
   "id": "e42756aa-f86d-4a8f-ac24-db5692a15b57",
   "metadata": {},
   "outputs": [],
   "source": [
    " # Train the linear regression model without regularization\n",
    "model = LinearRegression()\n",
    "model.fit(X_train, y_train)\n",
    "\n",
    "    # Predict on the validation set\n",
    "y_pred_val = model.predict(X_val)\n",
    "\n",
    "    "
   ]
  },
  {
   "cell_type": "code",
   "execution_count": 22,
   "id": "20d47ec1-ab2a-4899-99e4-334431f6ab0d",
   "metadata": {},
   "outputs": [
    {
     "name": "stdout",
     "output_type": "stream",
     "text": [
      "Standard deviation of RMSE scores: 0.0\n"
     ]
    }
   ],
   "source": [
    "# Compute RMSE and store the result\n",
    "score = rmse(y_val, y_pred_val)\n",
    "rmse_scores.append(score)\n",
    "\n"
   ]
  },
  {
   "cell_type": "code",
   "execution_count": 23,
   "id": "480b61e8-1dd7-4fd6-be5a-fc0e1b4897a0",
   "metadata": {},
   "outputs": [
    {
     "name": "stdout",
     "output_type": "stream",
     "text": [
      "Seed 0: RMSE = 617.0012851255333\n",
      "Standard deviation of RMSE scores: 0.0\n"
     ]
    }
   ],
   "source": [
    "# Print RMSE scores for each seed\n",
    "for i, score in enumerate(rmse_scores):\n",
    "    print(f\"Seed {seeds[i]}: RMSE = {score}\")\n",
    "\n",
    "# Compute standard deviation\n",
    "std_rmse = np.std(rmse_scores)\n",
    "print(f\"Standard deviation of RMSE scores: {round(std_rmse, 3)}\")\n"
   ]
  },
  {
   "cell_type": "code",
   "execution_count": 24,
   "id": "8f7f9397-0dec-45d4-b068-56556a42be95",
   "metadata": {},
   "outputs": [
    {
     "name": "stdout",
     "output_type": "stream",
     "text": [
      "Standard deviation of RMSE scores: 0.0\n"
     ]
    }
   ],
   "source": [
    "# Compute standard deviation of the RMSE scores\n",
    "std_rmse = np.std(rmse_scores)\n",
    "\n",
    "# Output the standard deviation rounded to 3 decimal places\n",
    "print(f\"Standard deviation of RMSE scores: {round(std_rmse, 3)}\")\n"
   ]
  },
  {
   "cell_type": "code",
   "execution_count": null,
   "id": "0da67a9a-f61f-4aad-ac19-340e9c1ee664",
   "metadata": {},
   "outputs": [],
   "source": []
  },
  {
   "cell_type": "code",
   "execution_count": null,
   "id": "9ad44513-e644-471a-8d80-67b773cecdd3",
   "metadata": {},
   "outputs": [],
   "source": []
  },
  {
   "cell_type": "code",
   "execution_count": null,
   "id": "ca169fb8-922c-4347-b8d4-d35c84e5d828",
   "metadata": {},
   "outputs": [],
   "source": []
  },
  {
   "cell_type": "code",
   "execution_count": null,
   "id": "eeff3836-1144-4600-b8ff-01906e9b7809",
   "metadata": {},
   "outputs": [],
   "source": []
  },
  {
   "cell_type": "code",
   "execution_count": null,
   "id": "2352b212-f489-46ff-aacc-d05619c7af4f",
   "metadata": {},
   "outputs": [],
   "source": []
  },
  {
   "cell_type": "code",
   "execution_count": null,
   "id": "16a0b493-d54c-4a89-91ab-fd389049c5f7",
   "metadata": {},
   "outputs": [],
   "source": []
  },
  {
   "cell_type": "code",
   "execution_count": null,
   "id": "21877172-7f50-4f50-957a-e6bd314f66b8",
   "metadata": {},
   "outputs": [],
   "source": []
  },
  {
   "cell_type": "code",
   "execution_count": null,
   "id": "da346ecc-b1f6-45cf-b378-50fd18a94971",
   "metadata": {},
   "outputs": [],
   "source": []
  }
 ],
 "metadata": {
  "kernelspec": {
   "display_name": "Python 3 (ipykernel)",
   "language": "python",
   "name": "python3"
  },
  "language_info": {
   "codemirror_mode": {
    "name": "ipython",
    "version": 3
   },
   "file_extension": ".py",
   "mimetype": "text/x-python",
   "name": "python",
   "nbconvert_exporter": "python",
   "pygments_lexer": "ipython3",
   "version": "3.12.1"
  }
 },
 "nbformat": 4,
 "nbformat_minor": 5
}
